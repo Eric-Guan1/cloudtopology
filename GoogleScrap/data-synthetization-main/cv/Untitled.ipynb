{
 "cells": [
  {
   "cell_type": "code",
   "execution_count": 187,
   "id": "f96d4a97",
   "metadata": {},
   "outputs": [],
   "source": [
    "import cv2\n",
    "import numpy as np\n",
    "import random\n",
    "import torch\n",
    "from skimage.util import random_noise\n",
    "import os"
   ]
  },
  {
   "cell_type": "code",
   "execution_count": 99,
   "id": "67d4f33e",
   "metadata": {},
   "outputs": [],
   "source": [
    "def preprocess_base(original):\n",
    "    img = cv2.imread(original)\n",
    "    h,w,d = img.shape\n",
    "    nh = int(h*600/w)\n",
    "    nw = int(w*400/h)\n",
    "    if (nh>400):\n",
    "        img = cv2.resize(img, (600,nh))\n",
    "    else:\n",
    "        img = cv2.resize(img, (nw,400))\n",
    "    h,w,d = img.shape\n",
    "    img_cpd = img[h//2-200:h//2+200,w//2-300:w//2+300]\n",
    "    return img_cpd\n",
    "def preprocess_icons(original):\n",
    "    img = cv2.imread(original,cv2.IMREAD_UNCHANGED)\n",
    "    h,w,d = img.shape\n",
    "    img = cv2.resize(img, (12,12))\n",
    "    return img"
   ]
  },
  {
   "cell_type": "code",
   "execution_count": 100,
   "id": "7ba88706",
   "metadata": {},
   "outputs": [],
   "source": [
    "bases = []\n",
    "for i in range(3):\n",
    "    basex = preprocess_base(f\"base{i}.png\")\n",
    "    bases.append(basex)\n",
    "    cv2.imwrite(os.path.join(os.getcwd(),\"bases\",f\"base{i}.png\"),basex)\n",
    "icons = []\n",
    "for i in range(1):\n",
    "    iconx = preprocess_icons(f\"icon{i}.png\")\n",
    "    icons.append(iconx)\n",
    "    cv2.imwrite(os.path.join(os.getcwd(),\"icons\",f\"icon{i}.png\"),iconx)"
   ]
  },
  {
   "cell_type": "code",
   "execution_count": 126,
   "id": "ad6d8d6e",
   "metadata": {},
   "outputs": [],
   "source": [
    "def recolor(original):\n",
    "    import random\n",
    "    img = cv2.imread(original)\n",
    "    b = random.random()*0.6+0.4\n",
    "    g = random.random()*(1-b)\n",
    "    r = 1-g-b\n",
    "    h,w,d = img.shape\n",
    "    for i in range(h):\n",
    "        for j in range(w):\n",
    "            s = sum(list(img[i][j]))\n",
    "            img[i][j] = np.array(recolor_pix([b,g,r],s))\n",
    "    # cv2.imwrite(new,img)\n",
    "    return img\n",
    "\n",
    "def recolor_pix(coloring, original):\n",
    "    b,g,r = [(coloring[i]*original) for i in range(3)]\n",
    "    g = g+max(0,b-255)\n",
    "    r = r+max(0,g-255)\n",
    "    b = b+max(0,r-255)\n",
    "    return [min(255,b),min(255,g),min(255,r)]\n",
    "        "
   ]
  },
  {
   "cell_type": "code",
   "execution_count": 66,
   "id": "101e2a41",
   "metadata": {},
   "outputs": [],
   "source": [
    "recolor(\"base2.png\",\"test?.png\")"
   ]
  },
  {
   "cell_type": "code",
   "execution_count": 182,
   "id": "2021f12c",
   "metadata": {},
   "outputs": [
    {
     "data": {
      "text/plain": [
       "True"
      ]
     },
     "execution_count": 182,
     "metadata": {},
     "output_type": "execute_result"
    }
   ],
   "source": [
    "def generate_loc(img,size):\n",
    "    brightness = -70\n",
    "    contrast = 2\n",
    "    img2 = cv2.addWeighted(img, contrast, np.zeros(img.shape, img.dtype), contrast, brightness)\n",
    "    img2 = cv2.cvtColor(img2, cv2.COLOR_BGR2GRAY)\n",
    "    locs = []\n",
    "    while size>0:\n",
    "        x,y = random.randint(50,550), random.randint(50,350)\n",
    "        if img2[y][x] == 255:\n",
    "            continue\n",
    "        else :\n",
    "            size-=1\n",
    "            locs.append([x,y])\n",
    "    return locs\n",
    "\n",
    "def generate_edges_Bidirectional(num_edges,num_nodes):\n",
    "    adj = [set() for i in range(num_nodes)]\n",
    "    nodes = set(range(num_nodes))\n",
    "    count = 0\n",
    "    while num_edges > count:\n",
    "        source = random.randint(0,num_nodes-1)\n",
    "        targets = list(nodes - adj[source])\n",
    "        if len(targets)>0:\n",
    "            target = random.sample(targets,1).pop()\n",
    "            adj[source].add(target)\n",
    "            adj[target].add(source)\n",
    "            count += 1\n",
    "    return adj\n",
    "def plot_nodes_and_edges(img,num_edges,num_nodes,node_clr,edge_clr):\n",
    "    nodes = generate_loc(img,num_nodes)\n",
    "    adj = generate_edges_Bidirectional(num_edges,num_nodes)\n",
    "    for i in range(num_nodes):\n",
    "        adjacents = adj[i]\n",
    "        while adjacents:\n",
    "            j = adjacents.pop()\n",
    "            if (i<j):\n",
    "                img = cv2.line(img,nodes[i],nodes[j],edge_clr,2)\n",
    "        img = cv2.circle(img,nodes[i],5,node_clr,-1)\n",
    "    return img    \n",
    "    \n",
    "\n",
    "img = recolor(\"base11.png\")\n",
    "img_new = plot_nodes_and_edges(img,20,10,(255,0,0),(0,0,255))\n",
    "cv2.imwrite(\"blehhh.png\",img_new)"
   ]
  },
  {
   "cell_type": "code",
   "execution_count": null,
   "id": "e916e50f",
   "metadata": {},
   "outputs": [],
   "source": [
    "colors = [(37,37,37),(204,79,73),(255,255,255),(50,50,229)]\n",
    "for base in bases:\n",
    "    for i in tqdm(range(4)):\n",
    "        base_rclr = recolor(base)\n",
    "        for j in range(50):\n",
    "            num_edges\n",
    "            num_nodes\n",
    "            node_clr\n",
    "            edge_clr\n",
    "            img_new = plot_nodes_and_edges(base_rclr,20,10,(255,0,0),(0,0,255))"
   ]
  },
  {
   "cell_type": "code",
   "execution_count": 261,
   "id": "d19c145d",
   "metadata": {},
   "outputs": [],
   "source": [
    "import cv2\n",
    "import numpy as np\n",
    "import os\n",
    "from tqdm import tqdm\n",
    "import random\n",
    "from skimage.util import random_noise\n",
    "\n",
    "def noise_Guassian(img):\n",
    "    img = random_noise(img, mode='gaussian', mean=0, var=0.01, clip=True)\n",
    "    img = (255*img).astype(np.uint8)\n",
    "    return img\n",
    "def noise_SP(img):\n",
    "    img = random_noise(img, mode='s&p', salt_vs_pepper=0.5, clip=True)\n",
    "    img = (255*img).astype(np.uint8)\n",
    "    return img\n",
    "def guass_blur(img):\n",
    "    kernel = np.ones((3,3),np.float32)/9\n",
    "    img = cv2.filter2D(img,-1,kernel)\n",
    "    return img\n",
    "def random_crop(img):\n",
    "    h,w,d = img.shape\n",
    "    sx,sy = random.randint(0,h//4), random.randint(0,w//4)\n",
    "    ex,ey = sx + random.randint(h//2,(h//4)*3), sy + random.randint(w//2,(w//4)*3)\n",
    "    img = img[sx:ex,sy:ey]\n",
    "    return img\n",
    "def flip(img):\n",
    "    h,w,d = img.shape\n",
    "    for i in range(h):\n",
    "        for j in range(w//2):\n",
    "            img[i][j], img[i][w-j-1] = img[i][w-j-1].copy(), img[i][j].copy()\n",
    "    return img"
   ]
  },
  {
   "cell_type": "code",
   "execution_count": 265,
   "id": "4b959c98",
   "metadata": {},
   "outputs": [
    {
     "name": "stdout",
     "output_type": "stream",
     "text": [
      "Image directory path:/Users/sherry/Downloads/cv\n"
     ]
    },
    {
     "name": "stderr",
     "output_type": "stream",
     "text": [
      "100%|███████████████████████████████████████████| 20/20 [00:04<00:00,  4.13it/s]\n"
     ]
    }
   ],
   "source": [
    "def noise_augment(img,crop=True,canflip=True,blur=True):\n",
    "    if (random.random() < 0.5):\n",
    "        img = noise_Guassian(img)\n",
    "    else:\n",
    "        img = noise_SP(img)\n",
    "    if crop:\n",
    "        img = random_crop(img)\n",
    "    if (random.random()<0.5 and canflip):\n",
    "        img = flip(img)\n",
    "    if (random.random()<0.5 and blur):\n",
    "        img = guass_blur(img)\n",
    "    return img\n",
    "\n",
    "if __name__==\"__main__\":\n",
    "    path = input(\"Image directory path:\")\n",
    "    newpath = os.path.join(path,\"noise_augmented_imgs\")\n",
    "    if not os.path.exists(newpath):\n",
    "        os.makedirs(newpath)\n",
    "    supported_formats = [\"jpg\",'png','webp']\n",
    "    dir_list = os.listdir(path)\n",
    "    for i in tqdm(range(len(dir_list))):\n",
    "        f = dir_list[i]\n",
    "        if f.split(\".\")[-1] in supported_formats:\n",
    "            img = cv2.imread(os.path.join(path,f))\n",
    "            img = noise_augment(img)\n",
    "            cv2.imwrite(os.path.join(newpath,f),img)\n",
    "            "
   ]
  },
  {
   "cell_type": "code",
   "execution_count": null,
   "id": "d4790ecb",
   "metadata": {},
   "outputs": [],
   "source": []
  }
 ],
 "metadata": {
  "kernelspec": {
   "display_name": "Python 3 (ipykernel)",
   "language": "python",
   "name": "python3"
  },
  "language_info": {
   "codemirror_mode": {
    "name": "ipython",
    "version": 3
   },
   "file_extension": ".py",
   "mimetype": "text/x-python",
   "name": "python",
   "nbconvert_exporter": "python",
   "pygments_lexer": "ipython3",
   "version": "3.11.4"
  }
 },
 "nbformat": 4,
 "nbformat_minor": 5
}
